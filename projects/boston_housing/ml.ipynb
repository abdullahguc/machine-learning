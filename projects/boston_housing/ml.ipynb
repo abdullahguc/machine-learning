{
 "cells": [
  {
   "cell_type": "code",
   "execution_count": 3,
   "metadata": {},
   "outputs": [],
   "source": [
    "# Import libraries necessary for this project\n",
    "import numpy as np\n",
    "import pandas as pd\n",
    "from sklearn.cross_validation import ShuffleSplit\n",
    "\n",
    "# Import supplementary visualizations code visuals.py\n",
    "import visuals as vs\n",
    "\n",
    "\n",
    "\n",
    "def load_data(file_path):\n",
    "\t# Load the Boston housing dataset\n",
    "\tdata = pd.read_csv(file_path)\n",
    "\ty = data['MEDV']\n",
    "\tx = data.drop('MEDV', axis = 1)\n",
    "\t# Success\n",
    "\tprint(\"Boston housing dataset has {} data points with {} variables each.\".format(*data.shape))\n",
    "\treturn(x,y)\n",
    "\n"
   ]
  },
  {
   "cell_type": "code",
   "execution_count": null,
   "metadata": {},
   "outputs": [],
   "source": []
  },
  {
   "cell_type": "code",
   "execution_count": null,
   "metadata": {},
   "outputs": [],
   "source": []
  },
  {
   "cell_type": "code",
   "execution_count": null,
   "metadata": {},
   "outputs": [],
   "source": []
  },
  {
   "cell_type": "code",
   "execution_count": 10,
   "metadata": {},
   "outputs": [
    {
     "name": "stdout",
     "output_type": "stream",
     "text": [
      "Boston housing dataset has 489 data points with 4 variables each.\n",
      "Statistics for Boston housing dataset:\n",
      "\n",
      "Minimum price: $105000.0\n",
      "Maximum price: $1024800.0\n",
      "Mean price: $454342.9447852761\n",
      "Median price $438900.0\n",
      "Standard deviation of prices: $165340.27765266786\n"
     ]
    }
   ],
   "source": [
    "# Import libraries necessary for this project\n",
    "import numpy as np\n",
    "import pandas as pd\n",
    "from sklearn.cross_validation import ShuffleSplit\n",
    "\n",
    "# Import supplementary visualizations code visuals.py\n",
    "import visuals as vs\n",
    "\n",
    "\n",
    "\n",
    "def load_data(file_path):\n",
    "\t# Load the Boston housing dataset\n",
    "\tdata = pd.read_csv(file_path)\n",
    "\ty = data['MEDV']\n",
    "\tx = data.drop('MEDV', axis = 1)\n",
    "\t# Success\n",
    "\tprint(\"Boston housing dataset has {} data points with {} variables each.\".format(*data.shape))\n",
    "\treturn(x,y)\n",
    "\n",
    "(x, y) = load_data(\"housing.csv\")\n",
    "# TODO: Minimum price of the data\n",
    "minimum_price = y.min()\n",
    "\n",
    "# TODO: Maximum price of the data\n",
    "maximum_price = y.max()\n",
    "\n",
    "# TODO: Mean price of the data\n",
    "mean_price = y.mean()\n",
    "\n",
    "# TODO: Median price of the data\n",
    "median_price = y.median()\n",
    "\n",
    "# TODO: Standard deviation of prices of the data\n",
    "std_price = y.std()\n",
    "\n",
    "# Show the calculated statistics\n",
    "print(\"Statistics for Boston housing dataset:\\n\")\n",
    "print(\"Minimum price: ${}\".format(minimum_price)) \n",
    "print(\"Maximum price: ${}\".format(maximum_price))\n",
    "print(\"Mean price: ${}\".format(mean_price))\n",
    "print(\"Median price ${}\".format(median_price))\n",
    "print(\"Standard deviation of prices: ${}\".format(std_price))"
   ]
  },
  {
   "cell_type": "code",
   "execution_count": null,
   "metadata": {},
   "outputs": [],
   "source": []
  }
 ],
 "metadata": {
  "kernelspec": {
   "display_name": "Python 3",
   "language": "python",
   "name": "python3"
  },
  "language_info": {
   "codemirror_mode": {
    "name": "ipython",
    "version": 3
   },
   "file_extension": ".py",
   "mimetype": "text/x-python",
   "name": "python",
   "nbconvert_exporter": "python",
   "pygments_lexer": "ipython3",
   "version": "3.6.5"
  }
 },
 "nbformat": 4,
 "nbformat_minor": 2
}
